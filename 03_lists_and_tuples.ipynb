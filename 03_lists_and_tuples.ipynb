{
 "cells": [
  {
   "cell_type": "markdown",
   "id": "35420811-681c-49b3-aedd-a07562b04fde",
   "metadata": {},
   "source": [
    "## Lists\n",
    "\n",
    "+ list is a finite, ordered, mutable sequence of elements\n",
    "+ List is one of the most fundamental and most useful, collection that python provides\n",
    "  "
   ]
  },
  {
   "cell_type": "code",
   "execution_count": 3,
   "id": "3150d45d-118d-4f60-a638-2caafdc5ae95",
   "metadata": {},
   "outputs": [
    {
     "data": {
      "text/plain": [
       "[]"
      ]
     },
     "execution_count": 3,
     "metadata": {},
     "output_type": "execute_result"
    }
   ],
   "source": [
    "empty = []\n",
    "empty # peints empty list"
   ]
  },
  {
   "cell_type": "code",
   "execution_count": 4,
   "id": "fe909a0d-fe58-4662-b8f7-6a2de6247ff8",
   "metadata": {},
   "outputs": [
    {
     "data": {
      "text/plain": [
       "['a', 'b', 'c']"
      ]
     },
     "execution_count": 4,
     "metadata": {},
     "output_type": "execute_result"
    }
   ],
   "source": [
    "letters = ['a', 'b', 'c']\n",
    "letters"
   ]
  },
  {
   "cell_type": "code",
   "execution_count": 5,
   "id": "010d5096-a7d5-4278-9ed2-3eb1f1f6afe0",
   "metadata": {},
   "outputs": [
    {
     "data": {
      "text/plain": [
       "[1, 2, 4, 5, 6]"
      ]
     },
     "execution_count": 5,
     "metadata": {},
     "output_type": "execute_result"
    }
   ],
   "source": [
    "nums = [1, 2, 4, 5,6]\n",
    "nums"
   ]
  },
  {
   "cell_type": "code",
   "execution_count": 8,
   "id": "6102289b-3772-4109-b78c-d94cc8f3f667",
   "metadata": {},
   "outputs": [
    {
     "name": "stdout",
     "output_type": "stream",
     "text": [
      "Nested lis is :  [[1, 2, 3, 4], ['a', 'b', 'c']]\n",
      "Element 0 is :  [1, 2, 3, 4]\n",
      "Last Element is : ['a', 'b', 'c']\n"
     ]
    }
   ],
   "source": [
    "nested_lists = [[1, 2, 3, 4], ['a', 'b', 'c']]\n",
    "print(\"Nested lis is : \", nested_lists)\n",
    "print(\"Element 0 is : \", nested_lists[0])\n",
    "print(\"Last Element is :\", nested_lists[-1])"
   ]
  },
  {
   "cell_type": "code",
   "execution_count": 9,
   "id": "886a1bde-bcfe-40ce-8455-736524c816b2",
   "metadata": {},
   "outputs": [
    {
     "name": "stdout",
     "output_type": "stream",
     "text": [
      "numbers is :  [1, 100, 5, 6]\n"
     ]
    }
   ],
   "source": [
    "numbers = [1, 3, 5, 6]\n",
    "\n",
    "numbers[1] = 100\n",
    "\n",
    "print(\"numbers is : \", numbers)"
   ]
  },
  {
   "cell_type": "code",
   "execution_count": 10,
   "id": "ecd0e57a-31e4-4ea8-8a8a-128bcaf4ad74",
   "metadata": {},
   "outputs": [
    {
     "name": "stdout",
     "output_type": "stream",
     "text": [
      "appended numbers is :  [1, 100, 5, 6, 101, -1]\n"
     ]
    }
   ],
   "source": [
    "numbers.append(101)\n",
    "numbers.append(-1)\n",
    "print(\"appended numbers is : \", numbers)"
   ]
  },
  {
   "cell_type": "code",
   "execution_count": 11,
   "id": "be88fe37-6333-4114-95cb-045c066cef8a",
   "metadata": {},
   "outputs": [],
   "source": [
    "make = ['Honda', 'Toyota', 'Ford', 'Tesla']\n",
    "model = ['Fit', 'Civic', 'Prius', 'Avalon', 'Camry', 'Tacoma', 'Mustang', 'Fiesta', 'F-150', 'S', '3', 'X', 'Y']"
   ]
  },
  {
   "cell_type": "code",
   "execution_count": 12,
   "id": "c69c273e-d324-4b30-b490-e77c0828f0c9",
   "metadata": {},
   "outputs": [
    {
     "name": "stdout",
     "output_type": "stream",
     "text": [
      "Toyota ['Fit', 'Civic', 'Prius', 'Avalon', 'Camry']\n"
     ]
    }
   ],
   "source": [
    "print(make[1], model[:5])"
   ]
  },
  {
   "cell_type": "code",
   "execution_count": 13,
   "id": "a8c5053e-759e-44d8-bcf7-07d02cb18139",
   "metadata": {},
   "outputs": [
    {
     "name": "stdout",
     "output_type": "stream",
     "text": [
      "Toyota ['Prius', 'Avalon', 'Camry', 'Tacoma']\n"
     ]
    }
   ],
   "source": [
    "print(make[1], model[2:6])"
   ]
  },
  {
   "cell_type": "markdown",
   "id": "c30ce19e-e5fd-438a-8d8f-1820e1f16e89",
   "metadata": {},
   "source": [
    "# Other list methods"
   ]
  },
  {
   "cell_type": "code",
   "execution_count": 26,
   "id": "ad5ff641-9cdf-435f-b395-13858af0135d",
   "metadata": {},
   "outputs": [
    {
     "name": "stdout",
     "output_type": "stream",
     "text": [
      "[1, 2, 3, 4, 10, 11, 12, 13]\n"
     ]
    }
   ],
   "source": [
    "nums = [1, 2, 3, 4]\n",
    "nums2 = [10, 11, 12, 13]\n",
    "\n",
    "nums.extend(nums2)\n",
    "\n",
    "print(nums)"
   ]
  },
  {
   "cell_type": "code",
   "execution_count": 27,
   "id": "a637a0f1-3865-412e-b097-87b2661d3d5d",
   "metadata": {},
   "outputs": [
    {
     "name": "stdout",
     "output_type": "stream",
     "text": [
      "[1, 2, 3, 100, 4, 10, 11, 12, 13]\n"
     ]
    }
   ],
   "source": [
    "nums.insert(3, 100)\n",
    "print(nums)"
   ]
  },
  {
   "cell_type": "code",
   "execution_count": 28,
   "id": "3fce474b-6a26-4fe9-a836-b584aadabd12",
   "metadata": {},
   "outputs": [
    {
     "name": "stdout",
     "output_type": "stream",
     "text": [
      "[1, 2, 3, 4, 10, 11, 12, 13]\n"
     ]
    }
   ],
   "source": [
    "nums.remove(100)\n",
    "print(nums)"
   ]
  },
  {
   "cell_type": "code",
   "execution_count": 29,
   "id": "1c95e9c8-5a09-4e06-93ce-1cb1bc0f011e",
   "metadata": {},
   "outputs": [
    {
     "name": "stdout",
     "output_type": "stream",
     "text": [
      "[1, 2, 3, 4, 11, 12, 13]\n"
     ]
    }
   ],
   "source": [
    "nums.remove(10)\n",
    "print(nums)"
   ]
  },
  {
   "cell_type": "code",
   "execution_count": 30,
   "id": "e9e79301-c7bd-479f-aa7f-27bdba992eb7",
   "metadata": {},
   "outputs": [
    {
     "name": "stdout",
     "output_type": "stream",
     "text": [
      "[]\n"
     ]
    }
   ],
   "source": [
    "nums.clear()\n",
    "print(nums)"
   ]
  },
  {
   "cell_type": "code",
   "execution_count": 31,
   "id": "b1aee833-482f-41d2-a910-d261112ea327",
   "metadata": {},
   "outputs": [
    {
     "data": {
      "text/plain": [
       "[10, -4, -10]"
      ]
     },
     "execution_count": 31,
     "metadata": {},
     "output_type": "execute_result"
    }
   ],
   "source": [
    "nums.append(10)\n",
    "nums.append(-4)\n",
    "nums.append(-10)\n",
    "\n",
    "nums"
   ]
  },
  {
   "cell_type": "code",
   "execution_count": 32,
   "id": "7a25bc38-b32b-4526-b23c-b49239b023f9",
   "metadata": {},
   "outputs": [
    {
     "data": {
      "text/plain": [
       "3"
      ]
     },
     "execution_count": 32,
     "metadata": {},
     "output_type": "execute_result"
    }
   ],
   "source": [
    "len(nums)"
   ]
  },
  {
   "cell_type": "code",
   "execution_count": 33,
   "id": "c24e71f5-95d4-4745-a247-3f42913c3f4a",
   "metadata": {},
   "outputs": [
    {
     "data": {
      "text/plain": [
       "True"
      ]
     },
     "execution_count": 33,
     "metadata": {},
     "output_type": "execute_result"
    }
   ],
   "source": [
    "10 in nums"
   ]
  },
  {
   "cell_type": "code",
   "execution_count": 34,
   "id": "a7d6e8b3-15d0-464f-9349-46f0e5a4d958",
   "metadata": {},
   "outputs": [
    {
     "data": {
      "text/plain": [
       "False"
      ]
     },
     "execution_count": 34,
     "metadata": {},
     "output_type": "execute_result"
    }
   ],
   "source": [
    "9 in nums"
   ]
  },
  {
   "attachments": {
    "276b1093-b6b0-409f-866b-65c351938815.png": {
     "image/png": "[encoded data removed]"
    }
   },
   "cell_type": "markdown",
   "id": "a7f40248-cd49-4331-8dae-60fde5c9881a",
   "metadata": {},
   "source": [
    "![image.png](attachment:276b1093-b6b0-409f-866b-65c351938815.png)"
   ]
  },
  {
   "cell_type": "code",
   "execution_count": 35,
   "id": "454ce529-ecd2-459b-9563-78a982ef0a9d",
   "metadata": {},
   "outputs": [
    {
     "name": "stdout",
     "output_type": "stream",
     "text": [
      "['a', 'c', 'r', 'm', 'y', 'r', 'a', 'm']\n"
     ]
    }
   ],
   "source": [
    "my_list = ['a', 'c', 'r', 'm', 'y']\n",
    "\n",
    "name = ['r', 'a', 'm']\n",
    "\n",
    "my_list.extend(name)\n",
    "\n",
    "print(my_list)"
   ]
  },
  {
   "cell_type": "code",
   "execution_count": 36,
   "id": "f1cbc3fd-462f-4241-94ed-75500c47d4f6",
   "metadata": {},
   "outputs": [
    {
     "data": {
      "text/plain": [
       "['R', 'a', 'c', 'r', 'm', 'y', 'r', 'a', 'm']"
      ]
     },
     "execution_count": 36,
     "metadata": {},
     "output_type": "execute_result"
    }
   ],
   "source": [
    "my_list.insert(0, 'R')\n",
    "my_list"
   ]
  },
  {
   "cell_type": "code",
   "execution_count": 37,
   "id": "44c5c2eb-cd42-4762-ab70-f963a67f4026",
   "metadata": {},
   "outputs": [
    {
     "data": {
      "text/plain": [
       "2"
      ]
     },
     "execution_count": 37,
     "metadata": {},
     "output_type": "execute_result"
    }
   ],
   "source": [
    "my_list.count('r')"
   ]
  },
  {
   "cell_type": "code",
   "execution_count": 39,
   "id": "89783763-25d1-404f-9216-d11dee0b87d9",
   "metadata": {},
   "outputs": [
    {
     "data": {
      "text/plain": [
       "['R', 'a', 'a', 'c', 'm', 'm', 'r', 'r', 'y']"
      ]
     },
     "execution_count": 39,
     "metadata": {},
     "output_type": "execute_result"
    }
   ],
   "source": [
    "my_list.sort(reverse=False)\n",
    "my_list"
   ]
  },
  {
   "cell_type": "code",
   "execution_count": 41,
   "id": "b8b2a400-3b8a-4daa-af84-c798c4f8682f",
   "metadata": {},
   "outputs": [
    {
     "data": {
      "text/plain": [
       "['R', 'a', 'a', 'c', 'm', 'm', 'r', 'r', 'y']"
      ]
     },
     "execution_count": 41,
     "metadata": {},
     "output_type": "execute_result"
    }
   ],
   "source": [
    "my_list.reverse()\n",
    "my_list"
   ]
  },
  {
   "cell_type": "code",
   "execution_count": 42,
   "id": "f4aa143c-6dc4-446f-9429-2320a87eb84c",
   "metadata": {},
   "outputs": [
    {
     "data": {
      "text/plain": [
       "9"
      ]
     },
     "execution_count": 42,
     "metadata": {},
     "output_type": "execute_result"
    }
   ],
   "source": [
    "len(my_list)"
   ]
  },
  {
   "cell_type": "code",
   "execution_count": 43,
   "id": "6ddf8e17-9897-4998-b3ce-ddc365d50e80",
   "metadata": {},
   "outputs": [],
   "source": [
    "times = []\n",
    "times.append(8.9)\n",
    "times.append(7.99)\n",
    "times.append(7.97)\n",
    "times.append(8.1)\n",
    "times.append(8.25)"
   ]
  },
  {
   "cell_type": "code",
   "execution_count": 44,
   "id": "c25eb794-e850-46fd-bbab-d3bddb2ec6e4",
   "metadata": {},
   "outputs": [
    {
     "data": {
      "text/plain": [
       "[8.9, 7.99, 7.97, 8.1, 8.25]"
      ]
     },
     "execution_count": 44,
     "metadata": {},
     "output_type": "execute_result"
    }
   ],
   "source": [
    "times"
   ]
  },
  {
   "cell_type": "markdown",
   "id": "41bae36d-15c9-4f68-8b25-8fefecee6115",
   "metadata": {},
   "source": [
    "# Tuples\n",
    "\n",
    "A `tuple` is an immutable sequence of arbitrary data."
   ]
  },
  {
   "cell_type": "code",
   "execution_count": null,
   "id": "538b9599-ddbd-4d7d-b7e2-1286fba5aff3",
   "metadata": {},
   "outputs": [],
   "source": []
  }
 ],
 "metadata": {
  "kernelspec": {
   "display_name": "Python 3 (ipykernel)",
   "language": "python",
   "name": "python3"
  },
  "language_info": {
   "codemirror_mode": {
    "name": "ipython",
    "version": 3
   },
   "file_extension": ".py",
   "mimetype": "text/x-python",
   "name": "python",
   "nbconvert_exporter": "python",
   "pygments_lexer": "ipython3",
   "version": "3.8.18"
  }
 },
 "nbformat": 4,
 "nbformat_minor": 5
}
