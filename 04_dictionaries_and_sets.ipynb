{
 "cells": [
  {
   "cell_type": "markdown",
   "id": "25af90aa-7d8b-43e7-9b56-020c34f131b8",
   "metadata": {},
   "source": [
    "# Mappings and Sets"
   ]
  },
  {
   "cell_type": "markdown",
   "id": "3ed9a020-7ce7-4a68-be5b-a6d281eacf9d",
   "metadata": {},
   "source": [
    "__Mappings__\n",
    "\n",
    "A mapping is a mutable map from hashable values to arbitrary objects. There is just one standard mapping type – `dict` – although a few more live in the `collections` module.\n",
    "\n",
    "Mappings are often used for:\n",
    "\n",
    "Encoding associative information\n",
    "Capturing plain data with named fields.\n",
    "Building more complicated data structures.\n",
    "\n",
    "__Dictionary - {'key' : value}__\n",
    "\n",
    "Mutable map from hashable keys to arbitrary values\n"
   ]
  },
  {
   "cell_type": "code",
   "execution_count": 4,
   "id": "22e5a28d-04f1-4be9-bd03-f5a265105293",
   "metadata": {},
   "outputs": [],
   "source": [
    "empty = {} # Creating empty dictionary"
   ]
  },
  {
   "cell_type": "code",
   "execution_count": 3,
   "id": "521961f7-8826-4ea8-90a8-736ff54b418e",
   "metadata": {},
   "outputs": [
    {
     "data": {
      "text/plain": [
       "dict"
      ]
     },
     "execution_count": 3,
     "metadata": {},
     "output_type": "execute_result"
    }
   ],
   "source": [
    "type(empty) "
   ]
  },
  {
   "cell_type": "code",
   "execution_count": 5,
   "id": "b6c350a6-a793-499b-a118-6f315bae0d7c",
   "metadata": {},
   "outputs": [
    {
     "data": {
      "text/plain": [
       "{}"
      ]
     },
     "execution_count": 5,
     "metadata": {},
     "output_type": "execute_result"
    }
   ],
   "source": [
    "dict()"
   ]
  },
  {
   "cell_type": "code",
   "execution_count": 8,
   "id": "4f3f96f2-3278-4df7-bd70-6e33b7df10ca",
   "metadata": {},
   "outputs": [
    {
     "data": {
      "text/plain": [
       "True"
      ]
     },
     "execution_count": 8,
     "metadata": {},
     "output_type": "execute_result"
    }
   ],
   "source": [
    "empty == dict() # empty dictionary and dict constructor both same with respective values"
   ]
  },
  {
   "cell_type": "code",
   "execution_count": 9,
   "id": "7dce0e95-d837-4df3-b076-1e2b40570439",
   "metadata": {},
   "outputs": [
    {
     "name": "stdout",
     "output_type": "stream",
     "text": [
      "{'one': 1, 'two': 2, 'three': 3}\n"
     ]
    }
   ],
   "source": [
    "a = {'one':1, 'two':2, 'three':3} # now a is an object of dict class\n",
    "\n",
    "print(a)"
   ]
  },
  {
   "cell_type": "code",
   "execution_count": 11,
   "id": "8621a35a-e5e0-4473-873d-f9434874f4ab",
   "metadata": {},
   "outputs": [
    {
     "name": "stdout",
     "output_type": "stream",
     "text": [
      "dict_values([1, 2, 3])\n"
     ]
    }
   ],
   "source": [
    "print(a.values())"
   ]
  },
  {
   "cell_type": "code",
   "execution_count": 12,
   "id": "ee4b00a2-c69b-4e7f-a567-e8a303c462f3",
   "metadata": {},
   "outputs": [
    {
     "name": "stdout",
     "output_type": "stream",
     "text": [
      "dict_keys(['one', 'two', 'three'])\n"
     ]
    }
   ],
   "source": [
    "print(a.keys())"
   ]
  },
  {
   "cell_type": "code",
   "execution_count": 16,
   "id": "5fbeb0a7-94d6-4bbc-9fa0-f19e881fb8a4",
   "metadata": {},
   "outputs": [],
   "source": [
    "a = dict(one=1, two=2, three=3)"
   ]
  },
  {
   "cell_type": "code",
   "execution_count": 17,
   "id": "41b28920-3aea-41c3-b735-811ffdd8cc7e",
   "metadata": {},
   "outputs": [
    {
     "data": {
      "text/plain": [
       "{'one': 1, 'two': 2, 'three': 3}"
      ]
     },
     "execution_count": 17,
     "metadata": {},
     "output_type": "execute_result"
    }
   ],
   "source": [
    "a"
   ]
  },
  {
   "cell_type": "code",
   "execution_count": 18,
   "id": "e7fc34fd-5938-40f5-81e9-c3b496be48b2",
   "metadata": {},
   "outputs": [
    {
     "data": {
      "text/plain": [
       "1"
      ]
     },
     "execution_count": 18,
     "metadata": {},
     "output_type": "execute_result"
    }
   ],
   "source": [
    "a['one']"
   ]
  },
  {
   "cell_type": "code",
   "execution_count": 19,
   "id": "2ea1e695-428a-493e-992f-90ec94bf7eab",
   "metadata": {},
   "outputs": [],
   "source": [
    "a['one'] = 11"
   ]
  },
  {
   "cell_type": "code",
   "execution_count": 20,
   "id": "541fbddc-981d-4534-8b0d-e1dcf9cee7f1",
   "metadata": {},
   "outputs": [
    {
     "data": {
      "text/plain": [
       "{'one': 11, 'two': 2, 'three': 3}"
      ]
     },
     "execution_count": 20,
     "metadata": {},
     "output_type": "execute_result"
    }
   ],
   "source": [
    "a"
   ]
  },
  {
   "cell_type": "code",
   "execution_count": 21,
   "id": "388a5237-87ef-4d95-9e1f-44275ed97a6a",
   "metadata": {},
   "outputs": [],
   "source": [
    "a['four'] = 4"
   ]
  },
  {
   "cell_type": "code",
   "execution_count": 22,
   "id": "aebb867c-75d9-4195-8821-d9cea6b9fdbb",
   "metadata": {},
   "outputs": [
    {
     "data": {
      "text/plain": [
       "{'one': 11, 'two': 2, 'three': 3, 'four': 4}"
      ]
     },
     "execution_count": 22,
     "metadata": {},
     "output_type": "execute_result"
    }
   ],
   "source": [
    "a"
   ]
  },
  {
   "cell_type": "markdown",
   "id": "f767aad4-7dbf-4783-bc82-4307de3b7c82",
   "metadata": {},
   "source": [
    "## Accessing Elements from a Mapping"
   ]
  },
  {
   "cell_type": "code",
   "execution_count": 23,
   "id": "8bdbef73-4e03-4ce1-958f-f83cc6c02826",
   "metadata": {},
   "outputs": [
    {
     "data": {
      "text/plain": [
       "3"
      ]
     },
     "execution_count": 23,
     "metadata": {},
     "output_type": "execute_result"
    }
   ],
   "source": [
    "a['three']"
   ]
  },
  {
   "cell_type": "code",
   "execution_count": 24,
   "id": "a5ea0bc5-2c7a-46e4-8f7b-1b302c359e46",
   "metadata": {},
   "outputs": [
    {
     "ename": "KeyError",
     "evalue": "'five'",
     "output_type": "error",
     "traceback": [
      "\u001b[0;31m---------------------------------------------------------------------------\u001b[0m",
      "\u001b[0;31mKeyError\u001b[0m                                  Traceback (most recent call last)",
      "Cell \u001b[0;32mIn[24], line 1\u001b[0m\n\u001b[0;32m----> 1\u001b[0m \u001b[43ma\u001b[49m\u001b[43m[\u001b[49m\u001b[38;5;124;43m'\u001b[39;49m\u001b[38;5;124;43mfive\u001b[39;49m\u001b[38;5;124;43m'\u001b[39;49m\u001b[43m]\u001b[49m\n",
      "\u001b[0;31mKeyError\u001b[0m: 'five'"
     ]
    }
   ],
   "source": [
    "a['five'] # it is not there in the dict so let's try to handle this in a better way"
   ]
  },
  {
   "cell_type": "code",
   "execution_count": 26,
   "id": "c62e43bc-4172-44e4-a1b5-e55cf7fe7217",
   "metadata": {},
   "outputs": [
    {
     "data": {
      "text/plain": [
       "0"
      ]
     },
     "execution_count": 26,
     "metadata": {},
     "output_type": "execute_result"
    }
   ],
   "source": [
    "a.get('five', 0) # the five key is not there so it returned the 0 to us instead of the error"
   ]
  },
  {
   "cell_type": "code",
   "execution_count": 28,
   "id": "6f2a68e8-62d9-4b68-b918-02bd0012d6a3",
   "metadata": {},
   "outputs": [],
   "source": [
    "del a['one'] # a will be deleted"
   ]
  },
  {
   "cell_type": "code",
   "execution_count": 29,
   "id": "3416cc68-2817-48c7-bdfb-ee00f581dc95",
   "metadata": {},
   "outputs": [
    {
     "data": {
      "text/plain": [
       "{'two': 2, 'three': 3, 'four': 4}"
      ]
     },
     "execution_count": 29,
     "metadata": {},
     "output_type": "execute_result"
    }
   ],
   "source": [
    "a"
   ]
  },
  {
   "cell_type": "code",
   "execution_count": 30,
   "id": "488058f9-f54f-4d52-bbee-59b8a0d9de6a",
   "metadata": {},
   "outputs": [
    {
     "data": {
      "text/plain": [
       "2"
      ]
     },
     "execution_count": 30,
     "metadata": {},
     "output_type": "execute_result"
    }
   ],
   "source": [
    "a.pop('two') # 2 will be removed "
   ]
  },
  {
   "cell_type": "code",
   "execution_count": 31,
   "id": "6f3da660-3cfe-4b54-8b5d-c92a62f7a1f9",
   "metadata": {},
   "outputs": [
    {
     "data": {
      "text/plain": [
       "{'three': 3, 'four': 4}"
      ]
     },
     "execution_count": 31,
     "metadata": {},
     "output_type": "execute_result"
    }
   ],
   "source": [
    "a"
   ]
  },
  {
   "cell_type": "code",
   "execution_count": 32,
   "id": "e87ab795-ea45-46fe-a7ba-ee553e0941c8",
   "metadata": {},
   "outputs": [
    {
     "data": {
      "text/plain": [
       "dict_keys(['three', 'four'])"
      ]
     },
     "execution_count": 32,
     "metadata": {},
     "output_type": "execute_result"
    }
   ],
   "source": [
    "a.keys() # can view keys "
   ]
  },
  {
   "cell_type": "code",
   "execution_count": 33,
   "id": "f815de20-b315-4c25-ab7f-f603a4606718",
   "metadata": {},
   "outputs": [
    {
     "data": {
      "text/plain": [
       "dict_values([3, 4])"
      ]
     },
     "execution_count": 33,
     "metadata": {},
     "output_type": "execute_result"
    }
   ],
   "source": [
    "a.values() # values of the dict"
   ]
  },
  {
   "cell_type": "code",
   "execution_count": 35,
   "id": "fd838843-eeb0-4e75-acd2-0c89a40b3968",
   "metadata": {},
   "outputs": [
    {
     "data": {
      "text/plain": [
       "dict_items([('three', 3), ('four', 4)])"
      ]
     },
     "execution_count": 35,
     "metadata": {},
     "output_type": "execute_result"
    }
   ],
   "source": [
    "a.items() # tuple items"
   ]
  },
  {
   "cell_type": "code",
   "execution_count": 36,
   "id": "ef83cea1-1502-4147-96b2-9ff50ab5a491",
   "metadata": {},
   "outputs": [
    {
     "data": {
      "text/plain": [
       "{'one': 1, 'two': 2, 'three': 3, 'four': 4, 'five': 5, 'six': 6}"
      ]
     },
     "execution_count": 36,
     "metadata": {},
     "output_type": "execute_result"
    }
   ],
   "source": [
    "b = {'one':1, 'two':2, 'three':3, 'four':4, 'five':5, 'six':6}\n",
    "\n",
    "b"
   ]
  },
  {
   "cell_type": "code",
   "execution_count": 38,
   "id": "c3dc2470-bc7d-47f9-9167-15cc2d04694b",
   "metadata": {},
   "outputs": [
    {
     "data": {
      "text/plain": [
       "6"
      ]
     },
     "execution_count": 38,
     "metadata": {},
     "output_type": "execute_result"
    }
   ],
   "source": [
    "len(b) # will return the length of the dictionary \n"
   ]
  },
  {
   "cell_type": "code",
   "execution_count": 40,
   "id": "a1917502-3c9b-4fb0-ad08-1558ee5a8191",
   "metadata": {},
   "outputs": [
    {
     "name": "stdout",
     "output_type": "stream",
     "text": [
      "one 1\n",
      "two 2\n",
      "three 3\n",
      "four 4\n",
      "five 5\n",
      "six 6\n"
     ]
    }
   ],
   "source": [
    "for key, value in b.items():\n",
    "    print(key, value)"
   ]
  },
  {
   "cell_type": "code",
   "execution_count": 41,
   "id": "fca53e61-bfbd-4777-827e-cf21ab342f86",
   "metadata": {},
   "outputs": [
    {
     "name": "stdout",
     "output_type": "stream",
     "text": [
      "one\n",
      "two\n",
      "three\n",
      "four\n",
      "five\n",
      "six\n"
     ]
    }
   ],
   "source": [
    "for key in b.keys():\n",
    "    print(key)"
   ]
  },
  {
   "cell_type": "code",
   "execution_count": 42,
   "id": "92370877-288f-47d3-b554-d10c3c500f66",
   "metadata": {},
   "outputs": [
    {
     "name": "stdout",
     "output_type": "stream",
     "text": [
      "1\n",
      "2\n",
      "3\n",
      "4\n",
      "5\n",
      "6\n"
     ]
    }
   ],
   "source": [
    "for val in b.values():\n",
    "    print(val)"
   ]
  },
  {
   "cell_type": "code",
   "execution_count": 43,
   "id": "32c003e0-3d38-453d-b1f9-59fa902cff9b",
   "metadata": {},
   "outputs": [
    {
     "name": "stdout",
     "output_type": "stream",
     "text": [
      "2\n",
      "2\n",
      "5\n",
      "5\n",
      "8\n",
      "four\n",
      "8\n",
      "2\n",
      "2\n",
      "threethreethreethreethree\n"
     ]
    }
   ],
   "source": [
    "d = {\"one\": 1, \"two\": 2, \"three\": 3}\n",
    "print(d[\"two\"])\n",
    "d[\"three\"] = 5\n",
    "del d[\"one\"]\n",
    "print(len(d))\n",
    "d[\"four\"] = 8\n",
    "print(d.get(\"three\", \"four\"))\n",
    "print(d.get(\"three\", d[\"four\"]))\n",
    "print(max(d.values()))\n",
    "print(min(d))\n",
    "print(d.pop(\"four\", 4))\n",
    "print(d.pop(\"one\", d[\"two\"]))\n",
    "print(d.pop(\"two\"))\n",
    "for key, value in d.items():\n",
    "    print(key * value)\n",
    "\n"
   ]
  },
  {
   "cell_type": "code",
   "execution_count": 66,
   "id": "d0865b04-8349-46d2-aa9b-b2c981248329",
   "metadata": {},
   "outputs": [],
   "source": [
    "# we can not slice the dictionaries also\n"
   ]
  },
  {
   "attachments": {
    "2adf580e-6947-4f3c-ac4c-1cbb16e0f130.png": {
     "image/png": "[encoded data removed]"
    }
   },
   "cell_type": "markdown",
   "id": "c181a2e5-5ceb-4ae2-84ed-d2885f099804",
   "metadata": {},
   "source": [
    "## Sets\n",
    "\n",
    "A set is an unordered collection of distinct hashable elements.\n",
    "\n",
    "Sets are often used for:\n",
    "\n",
    "+ Efficiently checking if an element is contained in a collection.\n",
    "+ Eliminating duplicate entries from a collection.\n",
    "+ Representing abstract sets, with access to mathematical operators such as intersection and union.\n",
    "\n",
    "  ![image.png](attachment:2adf580e-6947-4f3c-ac4c-1cbb16e0f130.png)"
   ]
  },
  {
   "cell_type": "code",
   "execution_count": 44,
   "id": "eff8c94d-a0bc-4e9c-810c-d331ec3bc18f",
   "metadata": {},
   "outputs": [],
   "source": [
    "s = {1, 2, 4, 5}"
   ]
  },
  {
   "cell_type": "code",
   "execution_count": 45,
   "id": "5c6ce17f-f406-4a4b-8381-ad70f62edb86",
   "metadata": {},
   "outputs": [
    {
     "data": {
      "text/plain": [
       "{1, 2, 4, 5}"
      ]
     },
     "execution_count": 45,
     "metadata": {},
     "output_type": "execute_result"
    }
   ],
   "source": [
    "s"
   ]
  },
  {
   "cell_type": "code",
   "execution_count": 46,
   "id": "c2e29737-9dc9-4af0-bdc8-582884ec0bdd",
   "metadata": {},
   "outputs": [],
   "source": [
    "empty_set = set()"
   ]
  },
  {
   "cell_type": "code",
   "execution_count": 47,
   "id": "729cc17a-a740-42e3-9ff3-7b444273fa9b",
   "metadata": {},
   "outputs": [
    {
     "data": {
      "text/plain": [
       "0"
      ]
     },
     "execution_count": 47,
     "metadata": {},
     "output_type": "execute_result"
    }
   ],
   "source": [
    "len(empty_set)"
   ]
  },
  {
   "cell_type": "code",
   "execution_count": 48,
   "id": "7c385b0a-cc81-4764-9be9-cd4ea6e6abcd",
   "metadata": {},
   "outputs": [
    {
     "data": {
      "text/plain": [
       "False"
      ]
     },
     "execution_count": 48,
     "metadata": {},
     "output_type": "execute_result"
    }
   ],
   "source": [
    "3 in s"
   ]
  },
  {
   "cell_type": "code",
   "execution_count": 49,
   "id": "d52b0d2e-e0c2-47d6-aa51-df848087fd6d",
   "metadata": {},
   "outputs": [
    {
     "data": {
      "text/plain": [
       "True"
      ]
     },
     "execution_count": 49,
     "metadata": {},
     "output_type": "execute_result"
    }
   ],
   "source": [
    "4 in s"
   ]
  },
  {
   "cell_type": "code",
   "execution_count": 51,
   "id": "8c453ff4-7bd7-44e6-b7d7-797e603ef5b8",
   "metadata": {},
   "outputs": [
    {
     "data": {
      "text/plain": [
       "set"
      ]
     },
     "execution_count": 51,
     "metadata": {},
     "output_type": "execute_result"
    }
   ],
   "source": [
    "type(empty_set)"
   ]
  },
  {
   "cell_type": "code",
   "execution_count": 52,
   "id": "abadfa3e-7b3d-49ea-9811-9abe0d5637a4",
   "metadata": {},
   "outputs": [],
   "source": [
    "s.add(36)"
   ]
  },
  {
   "cell_type": "code",
   "execution_count": 53,
   "id": "984cd825-b002-471d-a1e1-e77cb86f0c49",
   "metadata": {},
   "outputs": [
    {
     "data": {
      "text/plain": [
       "{1, 2, 4, 5, 36}"
      ]
     },
     "execution_count": 53,
     "metadata": {},
     "output_type": "execute_result"
    }
   ],
   "source": [
    "s"
   ]
  },
  {
   "cell_type": "code",
   "execution_count": 54,
   "id": "0b0ff8b6-035e-4c6e-8a16-48fc78a80feb",
   "metadata": {},
   "outputs": [],
   "source": [
    "s.remove(5)"
   ]
  },
  {
   "cell_type": "code",
   "execution_count": 55,
   "id": "17a906e8-cbab-472f-9741-e6dd2f78a73c",
   "metadata": {},
   "outputs": [
    {
     "data": {
      "text/plain": [
       "{1, 2, 4, 36}"
      ]
     },
     "execution_count": 55,
     "metadata": {},
     "output_type": "execute_result"
    }
   ],
   "source": [
    "s"
   ]
  },
  {
   "cell_type": "code",
   "execution_count": 56,
   "id": "4278b9da-f023-4d61-857e-8156d9e768e7",
   "metadata": {},
   "outputs": [
    {
     "ename": "KeyError",
     "evalue": "50",
     "output_type": "error",
     "traceback": [
      "\u001b[0;31m---------------------------------------------------------------------------\u001b[0m",
      "\u001b[0;31mKeyError\u001b[0m                                  Traceback (most recent call last)",
      "Cell \u001b[0;32mIn[56], line 1\u001b[0m\n\u001b[0;32m----> 1\u001b[0m \u001b[43ms\u001b[49m\u001b[38;5;241;43m.\u001b[39;49m\u001b[43mremove\u001b[49m\u001b[43m(\u001b[49m\u001b[38;5;241;43m50\u001b[39;49m\u001b[43m)\u001b[49m\n",
      "\u001b[0;31mKeyError\u001b[0m: 50"
     ]
    }
   ],
   "source": [
    "s.remove(50) # if the element is not there in the set then it will provide a key error"
   ]
  },
  {
   "cell_type": "code",
   "execution_count": 57,
   "id": "508e4683-9c61-4621-a40f-983255744ff4",
   "metadata": {},
   "outputs": [],
   "source": [
    "s.discard(1) # removes element"
   ]
  },
  {
   "cell_type": "code",
   "execution_count": 58,
   "id": "bec1b7fb-86e0-4673-88ea-e26c1bb6ffc4",
   "metadata": {},
   "outputs": [
    {
     "data": {
      "text/plain": [
       "{2, 4, 36}"
      ]
     },
     "execution_count": 58,
     "metadata": {},
     "output_type": "execute_result"
    }
   ],
   "source": [
    "s"
   ]
  },
  {
   "cell_type": "code",
   "execution_count": 59,
   "id": "629eb025-adc7-4ae2-b1dc-807601204db2",
   "metadata": {},
   "outputs": [],
   "source": [
    "s.discard(100) # if the element is not there in the s also it won't give any error"
   ]
  },
  {
   "cell_type": "code",
   "execution_count": 60,
   "id": "552138a1-7d8d-4d8b-9c2c-7eabacec55d7",
   "metadata": {},
   "outputs": [
    {
     "data": {
      "text/plain": [
       "{2, 4, 36}"
      ]
     },
     "execution_count": 60,
     "metadata": {},
     "output_type": "execute_result"
    }
   ],
   "source": [
    "s"
   ]
  },
  {
   "cell_type": "code",
   "execution_count": 61,
   "id": "7de2abe4-d4c2-4cc5-8f35-ca3e5c100f25",
   "metadata": {},
   "outputs": [
    {
     "data": {
      "text/plain": [
       "{1, 2, 3, 4, 6, 9}"
      ]
     },
     "execution_count": 61,
     "metadata": {},
     "output_type": "execute_result"
    }
   ],
   "source": [
    "d = {1, 1, 4, 2, 3, 6, 4, 2, 1, 9, 4} # it stores only unique values \n",
    "\n",
    "d"
   ]
  },
  {
   "cell_type": "code",
   "execution_count": 62,
   "id": "a555067c-8990-44b1-b544-24a2e8a71545",
   "metadata": {},
   "outputs": [],
   "source": [
    "# sets are not ordered like other sequences, we can not slice them as we did with others"
   ]
  },
  {
   "cell_type": "code",
   "execution_count": 67,
   "id": "ece6107c-ce85-412d-b945-bd4293c6b02a",
   "metadata": {},
   "outputs": [
    {
     "data": {
      "text/plain": [
       "4"
      ]
     },
     "execution_count": 67,
     "metadata": {},
     "output_type": "execute_result"
    }
   ],
   "source": [
    "basket = {\"apple\", \"orange\", \"apple\", \"pear\", \"banana\"}\n",
    "\n",
    "len(basket) # counts the unique elements "
   ]
  },
  {
   "cell_type": "code",
   "execution_count": 68,
   "id": "94715f86-28ef-4a49-b588-abd521f447c4",
   "metadata": {},
   "outputs": [
    {
     "name": "stdout",
     "output_type": "stream",
     "text": [
      "orange\n",
      "apple\n",
      "banana\n",
      "pear\n"
     ]
    }
   ],
   "source": [
    "for fruit in basket:\n",
    "    print(fruit) #Iterates only unique elements"
   ]
  },
  {
   "cell_type": "code",
   "execution_count": 69,
   "id": "35a639d4-c161-4c12-96f1-07b24f223acf",
   "metadata": {},
   "outputs": [
    {
     "data": {
      "text/plain": [
       "True"
      ]
     },
     "execution_count": 69,
     "metadata": {},
     "output_type": "execute_result"
    }
   ],
   "source": [
    "'apple' in basket"
   ]
  },
  {
   "cell_type": "code",
   "execution_count": 70,
   "id": "57070fb6-f315-487c-b4c3-9e82ce9e6806",
   "metadata": {},
   "outputs": [
    {
     "data": {
      "text/plain": [
       "True"
      ]
     },
     "execution_count": 70,
     "metadata": {},
     "output_type": "execute_result"
    }
   ],
   "source": [
    "'pear' in basket"
   ]
  },
  {
   "cell_type": "code",
   "execution_count": 73,
   "id": "8b2c7bbb-33a4-4eb1-a850-fe07d50aed9b",
   "metadata": {},
   "outputs": [
    {
     "data": {
      "text/plain": [
       "{'i', 'm', 'p', 's'}"
      ]
     },
     "execution_count": 73,
     "metadata": {},
     "output_type": "execute_result"
    }
   ],
   "source": [
    "a = set('mississippi') \n",
    "a # stores the unique elements"
   ]
  },
  {
   "cell_type": "code",
   "execution_count": 75,
   "id": "e1c2843b-c8b3-4a0f-a92b-d6f28e73d23d",
   "metadata": {},
   "outputs": [
    {
     "data": {
      "text/plain": [
       "'s'"
      ]
     },
     "execution_count": 75,
     "metadata": {},
     "output_type": "execute_result"
    }
   ],
   "source": [
    "a.pop()"
   ]
  },
  {
   "cell_type": "code",
   "execution_count": 76,
   "id": "34d6d24e-ae16-4ce7-b571-cda86fdb82f0",
   "metadata": {},
   "outputs": [
    {
     "data": {
      "text/plain": [
       "{'i', 'm', 'p'}"
      ]
     },
     "execution_count": 76,
     "metadata": {},
     "output_type": "execute_result"
    }
   ],
   "source": [
    "a"
   ]
  },
  {
   "cell_type": "code",
   "execution_count": 80,
   "id": "757e98e5-230c-4ac7-91a9-ddea304a06e9",
   "metadata": {},
   "outputs": [],
   "source": [
    "a.clear()"
   ]
  },
  {
   "cell_type": "code",
   "execution_count": 81,
   "id": "6e58036f-f97a-44fd-8c06-05aba557b787",
   "metadata": {},
   "outputs": [
    {
     "data": {
      "text/plain": [
       "set()"
      ]
     },
     "execution_count": 81,
     "metadata": {},
     "output_type": "execute_result"
    }
   ],
   "source": [
    "a"
   ]
  },
  {
   "cell_type": "code",
   "execution_count": 82,
   "id": "fa067255-f4f2-4353-906a-b8779778d66d",
   "metadata": {},
   "outputs": [],
   "source": [
    "a = set('abracadabra')\n",
    "b = set('alacazam')"
   ]
  },
  {
   "cell_type": "code",
   "execution_count": 83,
   "id": "92ca320a-f783-4559-841a-328eabcbb071",
   "metadata": {},
   "outputs": [
    {
     "data": {
      "text/plain": [
       "{'b', 'd', 'r'}"
      ]
     },
     "execution_count": 83,
     "metadata": {},
     "output_type": "execute_result"
    }
   ],
   "source": [
    "a-b # letters in a but not in b"
   ]
  },
  {
   "cell_type": "code",
   "execution_count": 84,
   "id": "359bbdc3-bbd3-4019-8e36-0b67918eaa43",
   "metadata": {},
   "outputs": [
    {
     "data": {
      "text/plain": [
       "{'a', 'b', 'c', 'd', 'l', 'm', 'r', 'z'}"
      ]
     },
     "execution_count": 84,
     "metadata": {},
     "output_type": "execute_result"
    }
   ],
   "source": [
    "a | b # letters in a or b or both"
   ]
  },
  {
   "cell_type": "code",
   "execution_count": 85,
   "id": "fc032cc3-22e7-4619-8d89-a73027a3ccf6",
   "metadata": {},
   "outputs": [
    {
     "data": {
      "text/plain": [
       "{'a', 'c'}"
      ]
     },
     "execution_count": 85,
     "metadata": {},
     "output_type": "execute_result"
    }
   ],
   "source": [
    "a & b # letters in both a and b"
   ]
  },
  {
   "cell_type": "code",
   "execution_count": 86,
   "id": "a7f833c2-8be4-4f1c-8016-4be5e72ad4e8",
   "metadata": {},
   "outputs": [
    {
     "data": {
      "text/plain": [
       "False"
      ]
     },
     "execution_count": 86,
     "metadata": {},
     "output_type": "execute_result"
    }
   ],
   "source": [
    "a <= b # subset()"
   ]
  },
  {
   "cell_type": "code",
   "execution_count": 87,
   "id": "9f598fd3-804c-42f8-8553-915ca7f9ef83",
   "metadata": {},
   "outputs": [
    {
     "data": {
      "text/plain": [
       "{'b', 'd', 'l', 'm', 'r', 'z'}"
      ]
     },
     "execution_count": 87,
     "metadata": {},
     "output_type": "execute_result"
    }
   ],
   "source": [
    "a ^ b  ## letters in a or b but not both"
   ]
  },
  {
   "cell_type": "code",
   "execution_count": null,
   "id": "38fe2c78-1f5e-453f-8258-65092ce3b0cd",
   "metadata": {},
   "outputs": [],
   "source": []
  }
 ],
 "metadata": {
  "kernelspec": {
   "display_name": "Python 3 (ipykernel)",
   "language": "python",
   "name": "python3"
  },
  "language_info": {
   "codemirror_mode": {
    "name": "ipython",
    "version": 3
   },
   "file_extension": ".py",
   "mimetype": "text/x-python",
   "name": "python",
   "nbconvert_exporter": "python",
   "pygments_lexer": "ipython3",
   "version": "3.8.18"
  }
 },
 "nbformat": 4,
 "nbformat_minor": 5
}
